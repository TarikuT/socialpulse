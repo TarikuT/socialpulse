{
 "cells": [
  {
   "cell_type": "code",
   "execution_count": 1,
   "id": "59ccaa4b",
   "metadata": {},
   "outputs": [],
   "source": [
    "import streamlit as st\n",
    "import pandas as pd\n",
    "import matplotlib.pyplot as plt\n",
    "from wordcloud import WordCloud\n",
    "from vaderSentiment.vaderSentiment import SentimentIntensityAnalyzer\n",
    "from googleapiclient.discovery import build\n",
    "import openai\n",
    "import re\n",
    "from langdetect import detect\n",
    "from googletrans import Translator"
   ]
  }
 ],
 "metadata": {
  "kernelspec": {
   "display_name": "socialpulse",
   "language": "python",
   "name": "python3"
  },
  "language_info": {
   "codemirror_mode": {
    "name": "ipython",
    "version": 3
   },
   "file_extension": ".py",
   "mimetype": "text/x-python",
   "name": "python",
   "nbconvert_exporter": "python",
   "pygments_lexer": "ipython3",
   "version": "3.10.18"
  }
 },
 "nbformat": 4,
 "nbformat_minor": 5
}
